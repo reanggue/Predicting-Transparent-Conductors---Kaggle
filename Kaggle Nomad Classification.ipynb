{
 "cells": [
  {
   "cell_type": "code",
   "execution_count": 86,
   "metadata": {
    "collapsed": true
   },
   "outputs": [],
   "source": [
    "import pandas as pd\n",
    "import numpy as np"
   ]
  },
  {
   "cell_type": "code",
   "execution_count": 188,
   "metadata": {
    "collapsed": true
   },
   "outputs": [],
   "source": [
    "train_df = pd.read_csv('train.csv')\n",
    "test_df = pd.read_csv('test.csv')"
   ]
  },
  {
   "cell_type": "code",
   "execution_count": 189,
   "metadata": {
    "collapsed": false
   },
   "outputs": [],
   "source": [
    "from sklearn.kernel_ridge import KernelRidge\n",
    "from sklearn.model_selection import train_test_split\n",
    "\n",
    "from sklearn.metrics import mean_squared_error\n",
    "\n",
    "from sklearn.metrics.pairwise import polynomial_kernel\n",
    "from sklearn.metrics.pairwise import rbf_kernel\n",
    "from sklearn.metrics.pairwise import laplacian_kernel\n",
    "\n",
    "x_columns = [i for i in train.columns if i not in list(['id','formation_energy_ev_natom','bandgap_energy_ev'])]"
   ]
  },
  {
   "cell_type": "code",
   "execution_count": 190,
   "metadata": {
    "collapsed": true
   },
   "outputs": [],
   "source": [
    "label1 = 'formation_energy_ev_natom'\n",
    "label2 = 'bandgap_energy_ev'"
   ]
  },
  {
   "cell_type": "code",
   "execution_count": 191,
   "metadata": {
    "collapsed": true
   },
   "outputs": [],
   "source": [
    "train = train_df.drop(['id','formation_energy_ev_natom','bandgap_energy_ev'],axis=1)"
   ]
  },
  {
   "cell_type": "code",
   "execution_count": 192,
   "metadata": {
    "collapsed": false
   },
   "outputs": [],
   "source": [
    "goal = train_df[['formation_energy_ev_natom','bandgap_energy_ev']]"
   ]
  },
  {
   "cell_type": "code",
   "execution_count": 193,
   "metadata": {
    "collapsed": true
   },
   "outputs": [],
   "source": [
    "test = test_df.drop(['id'],axis=1)"
   ]
  },
  {
   "cell_type": "code",
   "execution_count": 194,
   "metadata": {
    "collapsed": true
   },
   "outputs": [],
   "source": [
    "df_all = pd.concat([train,test])"
   ]
  },
  {
   "cell_type": "code",
   "execution_count": 195,
   "metadata": {
    "collapsed": false
   },
   "outputs": [
    {
     "data": {
      "text/html": [
       "<div>\n",
       "<table border=\"1\" class=\"dataframe\">\n",
       "  <thead>\n",
       "    <tr style=\"text-align: right;\">\n",
       "      <th></th>\n",
       "      <th>spacegroup</th>\n",
       "      <th>number_of_total_atoms</th>\n",
       "      <th>percent_atom_al</th>\n",
       "      <th>percent_atom_ga</th>\n",
       "      <th>percent_atom_in</th>\n",
       "      <th>lattice_vector_1_ang</th>\n",
       "      <th>lattice_vector_2_ang</th>\n",
       "      <th>lattice_vector_3_ang</th>\n",
       "      <th>lattice_angle_alpha_degree</th>\n",
       "      <th>lattice_angle_beta_degree</th>\n",
       "      <th>lattice_angle_gamma_degree</th>\n",
       "    </tr>\n",
       "  </thead>\n",
       "  <tbody>\n",
       "    <tr>\n",
       "      <th>0</th>\n",
       "      <td>33</td>\n",
       "      <td>80.0</td>\n",
       "      <td>0.6250</td>\n",
       "      <td>0.3750</td>\n",
       "      <td>0.000</td>\n",
       "      <td>9.9523</td>\n",
       "      <td>8.5513</td>\n",
       "      <td>9.1775</td>\n",
       "      <td>90.0026</td>\n",
       "      <td>90.0023</td>\n",
       "      <td>90.0017</td>\n",
       "    </tr>\n",
       "    <tr>\n",
       "      <th>1</th>\n",
       "      <td>194</td>\n",
       "      <td>80.0</td>\n",
       "      <td>0.6250</td>\n",
       "      <td>0.3750</td>\n",
       "      <td>0.000</td>\n",
       "      <td>6.1840</td>\n",
       "      <td>6.1838</td>\n",
       "      <td>23.6287</td>\n",
       "      <td>90.0186</td>\n",
       "      <td>89.9980</td>\n",
       "      <td>120.0025</td>\n",
       "    </tr>\n",
       "    <tr>\n",
       "      <th>2</th>\n",
       "      <td>227</td>\n",
       "      <td>40.0</td>\n",
       "      <td>0.8125</td>\n",
       "      <td>0.1875</td>\n",
       "      <td>0.000</td>\n",
       "      <td>9.7510</td>\n",
       "      <td>5.6595</td>\n",
       "      <td>13.9630</td>\n",
       "      <td>90.9688</td>\n",
       "      <td>91.1228</td>\n",
       "      <td>30.5185</td>\n",
       "    </tr>\n",
       "    <tr>\n",
       "      <th>3</th>\n",
       "      <td>167</td>\n",
       "      <td>30.0</td>\n",
       "      <td>0.7500</td>\n",
       "      <td>0.0000</td>\n",
       "      <td>0.250</td>\n",
       "      <td>5.0036</td>\n",
       "      <td>5.0034</td>\n",
       "      <td>13.5318</td>\n",
       "      <td>89.9888</td>\n",
       "      <td>90.0119</td>\n",
       "      <td>120.0017</td>\n",
       "    </tr>\n",
       "    <tr>\n",
       "      <th>4</th>\n",
       "      <td>194</td>\n",
       "      <td>80.0</td>\n",
       "      <td>0.0000</td>\n",
       "      <td>0.6250</td>\n",
       "      <td>0.375</td>\n",
       "      <td>6.6614</td>\n",
       "      <td>6.6612</td>\n",
       "      <td>24.5813</td>\n",
       "      <td>89.9960</td>\n",
       "      <td>90.0006</td>\n",
       "      <td>119.9893</td>\n",
       "    </tr>\n",
       "  </tbody>\n",
       "</table>\n",
       "</div>"
      ],
      "text/plain": [
       "   spacegroup  number_of_total_atoms  percent_atom_al  percent_atom_ga  \\\n",
       "0          33                   80.0           0.6250           0.3750   \n",
       "1         194                   80.0           0.6250           0.3750   \n",
       "2         227                   40.0           0.8125           0.1875   \n",
       "3         167                   30.0           0.7500           0.0000   \n",
       "4         194                   80.0           0.0000           0.6250   \n",
       "\n",
       "   percent_atom_in  lattice_vector_1_ang  lattice_vector_2_ang  \\\n",
       "0            0.000                9.9523                8.5513   \n",
       "1            0.000                6.1840                6.1838   \n",
       "2            0.000                9.7510                5.6595   \n",
       "3            0.250                5.0036                5.0034   \n",
       "4            0.375                6.6614                6.6612   \n",
       "\n",
       "   lattice_vector_3_ang  lattice_angle_alpha_degree  \\\n",
       "0                9.1775                     90.0026   \n",
       "1               23.6287                     90.0186   \n",
       "2               13.9630                     90.9688   \n",
       "3               13.5318                     89.9888   \n",
       "4               24.5813                     89.9960   \n",
       "\n",
       "   lattice_angle_beta_degree  lattice_angle_gamma_degree  \n",
       "0                    90.0023                     90.0017  \n",
       "1                    89.9980                    120.0025  \n",
       "2                    91.1228                     30.5185  \n",
       "3                    90.0119                    120.0017  \n",
       "4                    90.0006                    119.9893  "
      ]
     },
     "execution_count": 195,
     "metadata": {},
     "output_type": "execute_result"
    }
   ],
   "source": [
    "df_all.head()"
   ]
  },
  {
   "cell_type": "code",
   "execution_count": 196,
   "metadata": {
    "collapsed": false
   },
   "outputs": [
    {
     "data": {
      "text/plain": [
       "(3000, 11)"
      ]
     },
     "execution_count": 196,
     "metadata": {},
     "output_type": "execute_result"
    }
   ],
   "source": [
    "df_all.shape"
   ]
  },
  {
   "cell_type": "code",
   "execution_count": 197,
   "metadata": {
    "collapsed": true
   },
   "outputs": [],
   "source": [
    "df_all_log = np.log1p(df_all)"
   ]
  },
  {
   "cell_type": "code",
   "execution_count": 198,
   "metadata": {
    "collapsed": false
   },
   "outputs": [
    {
     "data": {
      "text/html": [
       "<div>\n",
       "<table border=\"1\" class=\"dataframe\">\n",
       "  <thead>\n",
       "    <tr style=\"text-align: right;\">\n",
       "      <th></th>\n",
       "      <th>spacegroup</th>\n",
       "      <th>number_of_total_atoms</th>\n",
       "      <th>percent_atom_al</th>\n",
       "      <th>percent_atom_ga</th>\n",
       "      <th>percent_atom_in</th>\n",
       "      <th>lattice_vector_1_ang</th>\n",
       "      <th>lattice_vector_2_ang</th>\n",
       "      <th>lattice_vector_3_ang</th>\n",
       "      <th>lattice_angle_alpha_degree</th>\n",
       "      <th>lattice_angle_beta_degree</th>\n",
       "      <th>lattice_angle_gamma_degree</th>\n",
       "    </tr>\n",
       "  </thead>\n",
       "  <tbody>\n",
       "    <tr>\n",
       "      <th>count</th>\n",
       "      <td>3000.000000</td>\n",
       "      <td>3000.000000</td>\n",
       "      <td>3000.000000</td>\n",
       "      <td>3000.000000</td>\n",
       "      <td>3000.000000</td>\n",
       "      <td>3000.000000</td>\n",
       "      <td>3000.000000</td>\n",
       "      <td>3000.000000</td>\n",
       "      <td>3000.000000</td>\n",
       "      <td>3000.000000</td>\n",
       "      <td>3000.000000</td>\n",
       "    </tr>\n",
       "    <tr>\n",
       "      <th>mean</th>\n",
       "      <td>4.563154</td>\n",
       "      <td>4.051882</td>\n",
       "      <td>0.305032</td>\n",
       "      <td>0.253965</td>\n",
       "      <td>0.248781</td>\n",
       "      <td>2.302099</td>\n",
       "      <td>2.060738</td>\n",
       "      <td>2.534680</td>\n",
       "      <td>4.513263</td>\n",
       "      <td>4.535542</td>\n",
       "      <td>4.510452</td>\n",
       "    </tr>\n",
       "    <tr>\n",
       "      <th>std</th>\n",
       "      <td>1.079344</td>\n",
       "      <td>0.447522</td>\n",
       "      <td>0.195385</td>\n",
       "      <td>0.176064</td>\n",
       "      <td>0.196174</td>\n",
       "      <td>0.422446</td>\n",
       "      <td>0.247189</td>\n",
       "      <td>0.374908</td>\n",
       "      <td>0.013609</td>\n",
       "      <td>0.054381</td>\n",
       "      <td>0.374895</td>\n",
       "    </tr>\n",
       "    <tr>\n",
       "      <th>min</th>\n",
       "      <td>2.564949</td>\n",
       "      <td>2.397895</td>\n",
       "      <td>0.000000</td>\n",
       "      <td>0.000000</td>\n",
       "      <td>0.000000</td>\n",
       "      <td>1.395502</td>\n",
       "      <td>1.371764</td>\n",
       "      <td>1.897995</td>\n",
       "      <td>4.427766</td>\n",
       "      <td>4.414510</td>\n",
       "      <td>3.425051</td>\n",
       "    </tr>\n",
       "    <tr>\n",
       "      <th>25%</th>\n",
       "      <td>3.526361</td>\n",
       "      <td>3.713572</td>\n",
       "      <td>0.145139</td>\n",
       "      <td>0.089658</td>\n",
       "      <td>0.060625</td>\n",
       "      <td>1.965391</td>\n",
       "      <td>1.921669</td>\n",
       "      <td>2.332222</td>\n",
       "      <td>4.510856</td>\n",
       "      <td>4.510870</td>\n",
       "      <td>4.510846</td>\n",
       "    </tr>\n",
       "    <tr>\n",
       "      <th>50%</th>\n",
       "      <td>5.273000</td>\n",
       "      <td>4.394449</td>\n",
       "      <td>0.318454</td>\n",
       "      <td>0.247797</td>\n",
       "      <td>0.223144</td>\n",
       "      <td>2.354385</td>\n",
       "      <td>1.999559</td>\n",
       "      <td>2.408862</td>\n",
       "      <td>4.510877</td>\n",
       "      <td>4.510899</td>\n",
       "      <td>4.510864</td>\n",
       "    </tr>\n",
       "    <tr>\n",
       "      <th>75%</th>\n",
       "      <td>5.332719</td>\n",
       "      <td>4.394449</td>\n",
       "      <td>0.446287</td>\n",
       "      <td>0.384446</td>\n",
       "      <td>0.384446</td>\n",
       "      <td>2.425592</td>\n",
       "      <td>2.312337</td>\n",
       "      <td>2.732405</td>\n",
       "      <td>4.510928</td>\n",
       "      <td>4.511019</td>\n",
       "      <td>4.795778</td>\n",
       "    </tr>\n",
       "    <tr>\n",
       "      <th>max</th>\n",
       "      <td>5.429346</td>\n",
       "      <td>4.394449</td>\n",
       "      <td>0.693147</td>\n",
       "      <td>0.693147</td>\n",
       "      <td>0.693147</td>\n",
       "      <td>3.254760</td>\n",
       "      <td>2.423944</td>\n",
       "      <td>3.271316</td>\n",
       "      <td>4.627223</td>\n",
       "      <td>4.674400</td>\n",
       "      <td>4.796237</td>\n",
       "    </tr>\n",
       "  </tbody>\n",
       "</table>\n",
       "</div>"
      ],
      "text/plain": [
       "        spacegroup  number_of_total_atoms  percent_atom_al  percent_atom_ga  \\\n",
       "count  3000.000000            3000.000000      3000.000000      3000.000000   \n",
       "mean      4.563154               4.051882         0.305032         0.253965   \n",
       "std       1.079344               0.447522         0.195385         0.176064   \n",
       "min       2.564949               2.397895         0.000000         0.000000   \n",
       "25%       3.526361               3.713572         0.145139         0.089658   \n",
       "50%       5.273000               4.394449         0.318454         0.247797   \n",
       "75%       5.332719               4.394449         0.446287         0.384446   \n",
       "max       5.429346               4.394449         0.693147         0.693147   \n",
       "\n",
       "       percent_atom_in  lattice_vector_1_ang  lattice_vector_2_ang  \\\n",
       "count      3000.000000           3000.000000           3000.000000   \n",
       "mean          0.248781              2.302099              2.060738   \n",
       "std           0.196174              0.422446              0.247189   \n",
       "min           0.000000              1.395502              1.371764   \n",
       "25%           0.060625              1.965391              1.921669   \n",
       "50%           0.223144              2.354385              1.999559   \n",
       "75%           0.384446              2.425592              2.312337   \n",
       "max           0.693147              3.254760              2.423944   \n",
       "\n",
       "       lattice_vector_3_ang  lattice_angle_alpha_degree  \\\n",
       "count           3000.000000                 3000.000000   \n",
       "mean               2.534680                    4.513263   \n",
       "std                0.374908                    0.013609   \n",
       "min                1.897995                    4.427766   \n",
       "25%                2.332222                    4.510856   \n",
       "50%                2.408862                    4.510877   \n",
       "75%                2.732405                    4.510928   \n",
       "max                3.271316                    4.627223   \n",
       "\n",
       "       lattice_angle_beta_degree  lattice_angle_gamma_degree  \n",
       "count                3000.000000                 3000.000000  \n",
       "mean                    4.535542                    4.510452  \n",
       "std                     0.054381                    0.374895  \n",
       "min                     4.414510                    3.425051  \n",
       "25%                     4.510870                    4.510846  \n",
       "50%                     4.510899                    4.510864  \n",
       "75%                     4.511019                    4.795778  \n",
       "max                     4.674400                    4.796237  "
      ]
     },
     "execution_count": 198,
     "metadata": {},
     "output_type": "execute_result"
    }
   ],
   "source": [
    "df_all_log.describe()"
   ]
  },
  {
   "cell_type": "code",
   "execution_count": 199,
   "metadata": {
    "collapsed": true
   },
   "outputs": [],
   "source": [
    "from sklearn.preprocessing import StandardScaler\n",
    "\n",
    "def standardize(data):\n",
    "    data_columns = data.columns\n",
    "    data_index = data.index\n",
    "    norm = StandardScaler()\n",
    "    norm.fit(data)\n",
    "    \n",
    "    data_standard = pd.DataFrame(norm.transform(data), index=data_index)\n",
    "    data_standard.columns = data_columns\n",
    "#     data_standard.index = data_index\n",
    "    return(data_standard,norm)"
   ]
  },
  {
   "cell_type": "code",
   "execution_count": 200,
   "metadata": {
    "collapsed": true
   },
   "outputs": [],
   "source": [
    "df_norm, norm = standardize(df_all_log)"
   ]
  },
  {
   "cell_type": "code",
   "execution_count": 201,
   "metadata": {
    "collapsed": false
   },
   "outputs": [
    {
     "data": {
      "text/html": [
       "<div>\n",
       "<table border=\"1\" class=\"dataframe\">\n",
       "  <thead>\n",
       "    <tr style=\"text-align: right;\">\n",
       "      <th></th>\n",
       "      <th>spacegroup</th>\n",
       "      <th>number_of_total_atoms</th>\n",
       "      <th>percent_atom_al</th>\n",
       "      <th>percent_atom_ga</th>\n",
       "      <th>percent_atom_in</th>\n",
       "      <th>lattice_vector_1_ang</th>\n",
       "      <th>lattice_vector_2_ang</th>\n",
       "      <th>lattice_vector_3_ang</th>\n",
       "      <th>lattice_angle_alpha_degree</th>\n",
       "      <th>lattice_angle_beta_degree</th>\n",
       "      <th>lattice_angle_gamma_degree</th>\n",
       "    </tr>\n",
       "  </thead>\n",
       "  <tbody>\n",
       "    <tr>\n",
       "      <th>count</th>\n",
       "      <td>3.000000e+03</td>\n",
       "      <td>3.000000e+03</td>\n",
       "      <td>3.000000e+03</td>\n",
       "      <td>3.000000e+03</td>\n",
       "      <td>3.000000e+03</td>\n",
       "      <td>3.000000e+03</td>\n",
       "      <td>3.000000e+03</td>\n",
       "      <td>3.000000e+03</td>\n",
       "      <td>3.000000e+03</td>\n",
       "      <td>3.000000e+03</td>\n",
       "      <td>3.000000e+03</td>\n",
       "    </tr>\n",
       "    <tr>\n",
       "      <th>mean</th>\n",
       "      <td>1.480667e-16</td>\n",
       "      <td>2.342201e-16</td>\n",
       "      <td>2.638630e-17</td>\n",
       "      <td>3.620252e-17</td>\n",
       "      <td>2.264950e-16</td>\n",
       "      <td>5.949408e-17</td>\n",
       "      <td>1.143086e-15</td>\n",
       "      <td>-8.308169e-16</td>\n",
       "      <td>1.963592e-14</td>\n",
       "      <td>5.019540e-15</td>\n",
       "      <td>-6.429563e-16</td>\n",
       "    </tr>\n",
       "    <tr>\n",
       "      <th>std</th>\n",
       "      <td>1.000167e+00</td>\n",
       "      <td>1.000167e+00</td>\n",
       "      <td>1.000167e+00</td>\n",
       "      <td>1.000167e+00</td>\n",
       "      <td>1.000167e+00</td>\n",
       "      <td>1.000167e+00</td>\n",
       "      <td>1.000167e+00</td>\n",
       "      <td>1.000167e+00</td>\n",
       "      <td>1.000167e+00</td>\n",
       "      <td>1.000167e+00</td>\n",
       "      <td>1.000167e+00</td>\n",
       "    </tr>\n",
       "    <tr>\n",
       "      <th>min</th>\n",
       "      <td>-1.851622e+00</td>\n",
       "      <td>-3.696492e+00</td>\n",
       "      <td>-1.561445e+00</td>\n",
       "      <td>-1.442704e+00</td>\n",
       "      <td>-1.268376e+00</td>\n",
       "      <td>-2.146425e+00</td>\n",
       "      <td>-2.787696e+00</td>\n",
       "      <td>-1.698528e+00</td>\n",
       "      <td>-6.283236e+00</td>\n",
       "      <td>-2.226014e+00</td>\n",
       "      <td>-2.895700e+00</td>\n",
       "    </tr>\n",
       "    <tr>\n",
       "      <th>25%</th>\n",
       "      <td>-9.607376e-01</td>\n",
       "      <td>-7.560879e-01</td>\n",
       "      <td>-8.184866e-01</td>\n",
       "      <td>-9.333835e-01</td>\n",
       "      <td>-9.592896e-01</td>\n",
       "      <td>-7.971784e-01</td>\n",
       "      <td>-5.626971e-01</td>\n",
       "      <td>-5.401124e-01</td>\n",
       "      <td>-1.768527e-01</td>\n",
       "      <td>-4.537541e-01</td>\n",
       "      <td>1.050250e-03</td>\n",
       "    </tr>\n",
       "    <tr>\n",
       "      <th>50%</th>\n",
       "      <td>6.577729e-01</td>\n",
       "      <td>7.656032e-01</td>\n",
       "      <td>6.870422e-02</td>\n",
       "      <td>-3.503973e-02</td>\n",
       "      <td>-1.307098e-01</td>\n",
       "      <td>1.237898e-01</td>\n",
       "      <td>-2.475396e-01</td>\n",
       "      <td>-3.356532e-01</td>\n",
       "      <td>-1.753183e-01</td>\n",
       "      <td>-4.532286e-01</td>\n",
       "      <td>1.097891e-03</td>\n",
       "    </tr>\n",
       "    <tr>\n",
       "      <th>75%</th>\n",
       "      <td>7.131113e-01</td>\n",
       "      <td>7.656032e-01</td>\n",
       "      <td>7.230770e-01</td>\n",
       "      <td>7.412217e-01</td>\n",
       "      <td>6.916665e-01</td>\n",
       "      <td>2.923775e-01</td>\n",
       "      <td>1.018010e+00</td>\n",
       "      <td>5.274819e-01</td>\n",
       "      <td>-1.716036e-01</td>\n",
       "      <td>-4.510259e-01</td>\n",
       "      <td>7.612092e-01</td>\n",
       "    </tr>\n",
       "    <tr>\n",
       "      <th>max</th>\n",
       "      <td>8.026499e-01</td>\n",
       "      <td>7.656032e-01</td>\n",
       "      <td>1.986742e+00</td>\n",
       "      <td>2.494866e+00</td>\n",
       "      <td>2.265537e+00</td>\n",
       "      <td>2.255484e+00</td>\n",
       "      <td>1.469587e+00</td>\n",
       "      <td>1.965172e+00</td>\n",
       "      <td>8.375048e+00</td>\n",
       "      <td>2.553855e+00</td>\n",
       "      <td>7.624327e-01</td>\n",
       "    </tr>\n",
       "  </tbody>\n",
       "</table>\n",
       "</div>"
      ],
      "text/plain": [
       "         spacegroup  number_of_total_atoms  percent_atom_al  percent_atom_ga  \\\n",
       "count  3.000000e+03           3.000000e+03     3.000000e+03     3.000000e+03   \n",
       "mean   1.480667e-16           2.342201e-16     2.638630e-17     3.620252e-17   \n",
       "std    1.000167e+00           1.000167e+00     1.000167e+00     1.000167e+00   \n",
       "min   -1.851622e+00          -3.696492e+00    -1.561445e+00    -1.442704e+00   \n",
       "25%   -9.607376e-01          -7.560879e-01    -8.184866e-01    -9.333835e-01   \n",
       "50%    6.577729e-01           7.656032e-01     6.870422e-02    -3.503973e-02   \n",
       "75%    7.131113e-01           7.656032e-01     7.230770e-01     7.412217e-01   \n",
       "max    8.026499e-01           7.656032e-01     1.986742e+00     2.494866e+00   \n",
       "\n",
       "       percent_atom_in  lattice_vector_1_ang  lattice_vector_2_ang  \\\n",
       "count     3.000000e+03          3.000000e+03          3.000000e+03   \n",
       "mean      2.264950e-16          5.949408e-17          1.143086e-15   \n",
       "std       1.000167e+00          1.000167e+00          1.000167e+00   \n",
       "min      -1.268376e+00         -2.146425e+00         -2.787696e+00   \n",
       "25%      -9.592896e-01         -7.971784e-01         -5.626971e-01   \n",
       "50%      -1.307098e-01          1.237898e-01         -2.475396e-01   \n",
       "75%       6.916665e-01          2.923775e-01          1.018010e+00   \n",
       "max       2.265537e+00          2.255484e+00          1.469587e+00   \n",
       "\n",
       "       lattice_vector_3_ang  lattice_angle_alpha_degree  \\\n",
       "count          3.000000e+03                3.000000e+03   \n",
       "mean          -8.308169e-16                1.963592e-14   \n",
       "std            1.000167e+00                1.000167e+00   \n",
       "min           -1.698528e+00               -6.283236e+00   \n",
       "25%           -5.401124e-01               -1.768527e-01   \n",
       "50%           -3.356532e-01               -1.753183e-01   \n",
       "75%            5.274819e-01               -1.716036e-01   \n",
       "max            1.965172e+00                8.375048e+00   \n",
       "\n",
       "       lattice_angle_beta_degree  lattice_angle_gamma_degree  \n",
       "count               3.000000e+03                3.000000e+03  \n",
       "mean                5.019540e-15               -6.429563e-16  \n",
       "std                 1.000167e+00                1.000167e+00  \n",
       "min                -2.226014e+00               -2.895700e+00  \n",
       "25%                -4.537541e-01                1.050250e-03  \n",
       "50%                -4.532286e-01                1.097891e-03  \n",
       "75%                -4.510259e-01                7.612092e-01  \n",
       "max                 2.553855e+00                7.624327e-01  "
      ]
     },
     "execution_count": 201,
     "metadata": {},
     "output_type": "execute_result"
    }
   ],
   "source": [
    "df_norm.describe()"
   ]
  },
  {
   "cell_type": "code",
   "execution_count": 202,
   "metadata": {
    "collapsed": false
   },
   "outputs": [
    {
     "data": {
      "text/plain": [
       "spacegroup                    0\n",
       "number_of_total_atoms         0\n",
       "percent_atom_al               0\n",
       "percent_atom_ga               0\n",
       "percent_atom_in               0\n",
       "lattice_vector_1_ang          0\n",
       "lattice_vector_2_ang          0\n",
       "lattice_vector_3_ang          0\n",
       "lattice_angle_alpha_degree    0\n",
       "lattice_angle_beta_degree     0\n",
       "lattice_angle_gamma_degree    0\n",
       "dtype: int64"
      ]
     },
     "execution_count": 202,
     "metadata": {},
     "output_type": "execute_result"
    }
   ],
   "source": [
    "df_norm.isnull().sum()"
   ]
  },
  {
   "cell_type": "code",
   "execution_count": 203,
   "metadata": {
    "collapsed": false
   },
   "outputs": [
    {
     "data": {
      "text/plain": [
       "(3000, 11)"
      ]
     },
     "execution_count": 203,
     "metadata": {},
     "output_type": "execute_result"
    }
   ],
   "source": [
    "len(x_columns)\n",
    "df_norm.shape"
   ]
  },
  {
   "cell_type": "code",
   "execution_count": 220,
   "metadata": {
    "collapsed": true
   },
   "outputs": [],
   "source": [
    "x = df_norm[:len(train_df)]\n",
    "y = train_df[[label1,label2]]"
   ]
  },
  {
   "cell_type": "code",
   "execution_count": 271,
   "metadata": {
    "collapsed": false
   },
   "outputs": [],
   "source": [
    "x_train, x_valid, y_train, y_valid = train_test_split(x,y,test_size=0.05, random_state=123)"
   ]
  },
  {
   "cell_type": "code",
   "execution_count": 272,
   "metadata": {
    "collapsed": false
   },
   "outputs": [],
   "source": [
    "x_train = x_train.as_matrix()\n",
    "x_valid = x_valid.as_matrix()"
   ]
  },
  {
   "cell_type": "code",
   "execution_count": 273,
   "metadata": {
    "collapsed": false
   },
   "outputs": [],
   "source": [
    "y_train_values1 = np.log1p(y_train['formation_energy_ev_natom'].values)\n",
    "y_train_values2 = np.log1p(y_train['bandgap_energy_ev'].values)\n",
    "y_valid_values1 = np.log1p(y_valid['formation_energy_ev_natom'].values)\n",
    "y_valid_values2 = np.log1p(y_valid['bandgap_energy_ev'].values)"
   ]
  },
  {
   "cell_type": "code",
   "execution_count": 274,
   "metadata": {
    "collapsed": false
   },
   "outputs": [
    {
     "name": "stdout",
     "output_type": "stream",
     "text": [
      "RSME for formation energy:\n",
      "0.0340060932366\n",
      "RSME for band gap:\n",
      "0.0966303688861\n",
      "RSME for total:\n",
      "0.102439458063\n"
     ]
    }
   ],
   "source": [
    "clf3 = KernelRidge(kernel ='polynomial', alpha=1.0)\n",
    "clf4 = KernelRidge(kernel ='polynomial', alpha=1.0)\n",
    "\n",
    "clf3.fit(x_train,y_train_values1)\n",
    "clf4.fit(x_train,y_train_values2)\n",
    "\n",
    "preds1 = clf3.predict(x_valid)\n",
    "preds2 = clf4.predict(x_valid)\n",
    "\n",
    "y_pred1 = np.exp(preds1)-1\n",
    "y_pred2 = np.exp(preds2)-1\n",
    "\n",
    "rmse_valid1 = np.sqrt(mean_squared_error(y_valid_values1,preds1))\n",
    "rmse_valid2 = np.sqrt(mean_squared_error(y_valid_values2,preds2))\n",
    "\n",
    "rmse_total_poly = np.sqrt(rmse_valid1**2+rmse_valid2**2)\n",
    "print('RSME for formation energy:')\n",
    "print(rmse_valid1)\n",
    "print('RSME for band gap:')\n",
    "print(rmse_valid2)\n",
    "print('RSME for total:')\n",
    "print(rmse_total_poly)"
   ]
  },
  {
   "cell_type": "code",
   "execution_count": 275,
   "metadata": {
    "collapsed": false
   },
   "outputs": [
    {
     "data": {
      "text/plain": [
       "0.03400609323655706"
      ]
     },
     "execution_count": 275,
     "metadata": {},
     "output_type": "execute_result"
    }
   ],
   "source": [
    "rmse_valid1"
   ]
  },
  {
   "cell_type": "code",
   "execution_count": 276,
   "metadata": {
    "collapsed": false
   },
   "outputs": [
    {
     "name": "stdout",
     "output_type": "stream",
     "text": [
      "RMSE for formation energy\n",
      "0.0350110193175\n",
      "set(['RMSE for band gap'])\n",
      "0.0956085845593\n",
      "RMSE for total\n",
      "0.101817350757\n"
     ]
    }
   ],
   "source": [
    "clf5 = KernelRidge(kernel='rbf',alpha=1.0)\n",
    "clf6 = KernelRidge(kernel='rbf',alpha=1.0)\n",
    "\n",
    "clf5.fit(x_train,y_train_values1)\n",
    "clf6.fit(x_train,y_train_values2)\n",
    "\n",
    "preds5 = clf5.predict(x_valid)\n",
    "preds6 = clf6.predict(x_valid)\n",
    "\n",
    "y_pred5 = np.expm1(preds5)\n",
    "y_pred6 = np.expm1(preds6)\n",
    "\n",
    "rmse_valid5 = np.sqrt(mean_squared_error(y_valid_values1,preds5))\n",
    "rmse_valid6 = np.sqrt(mean_squared_error(y_valid_values2,preds6))\n",
    "\n",
    "rmse_total_rbf = np.sqrt(rmse_valid5**2+rmse_valid6**2)\n",
    "print('RMSE for formation energy')\n",
    "print(rmse_valid5)\n",
    "print{'RMSE for band gap'}\n",
    "print(rmse_valid6)\n",
    "print('RMSE for total')\n",
    "print(rmse_total_rbf)"
   ]
  },
  {
   "cell_type": "markdown",
   "metadata": {},
   "source": [
    "    RMSE for formation energy\n",
    "    0.0574131968921\n",
    "    set(['RMSE for band gap'])\n",
    "    0.112741461516\n",
    "    RMSE for total\n",
    "    0.126518426809"
   ]
  },
  {
   "cell_type": "code",
   "execution_count": 277,
   "metadata": {
    "collapsed": false
   },
   "outputs": [
    {
     "name": "stdout",
     "output_type": "stream",
     "text": [
      "RMSE for formation energy\n",
      "0.0324527259723\n",
      "RMSE for band gap\n",
      "0.0882929792131\n",
      "RMSE for total\n",
      "0.0940682178068\n"
     ]
    }
   ],
   "source": [
    "clf7 = KernelRidge(kernel='laplacian',alpha=1.0)\n",
    "clf8 = KernelRidge(kernel='laplacian',alpha=1.0)\n",
    "\n",
    "clf7.fit(x_train,y_train_values1)\n",
    "clf8.fit(x_train,y_train_values2)\n",
    "\n",
    "pred7 = clf7.predict(x_valid)\n",
    "pred8 = clf8.predict(x_valid)\n",
    "\n",
    "y_pred7 = np.expm1(pred7)\n",
    "y_pred8 = np.expm1(pred8)\n",
    "\n",
    "rmse_valid7 = np.sqrt(mean_squared_error(y_valid_values1,pred7))\n",
    "rmse_valid8 = np.sqrt(mean_squared_error(y_valid_values2,pred8))\n",
    "\n",
    "rmse_total_lap = np.sqrt(rmse_valid7**2+rmse_valid8**2)\n",
    "\n",
    "print('RMSE for formation energy')\n",
    "print(rmse_valid7)\n",
    "print('RMSE for band gap')\n",
    "print(rmse_valid8)\n",
    "print('RMSE for total')\n",
    "print(rmse_total_lap)"
   ]
  },
  {
   "cell_type": "code",
   "execution_count": 278,
   "metadata": {
    "collapsed": false
   },
   "outputs": [],
   "source": [
    "compare_rmse = pd.DataFrame()\n",
    "compare_rmse['RMSE total'] = [rmse_total_poly,rmse_total_rbf,rmse_total_lap]\n",
    "compare_rmse['RMSE formation Energy'] = [rmse_valid1,rmse_valid5,rmse_valid7]\n",
    "compare_rmse['RMSE bandgap'] = [rmse_valid2,rmse_valid6,rmse_valid8]"
   ]
  },
  {
   "cell_type": "code",
   "execution_count": 279,
   "metadata": {
    "collapsed": true
   },
   "outputs": [],
   "source": [
    "cobain = compare_rmse"
   ]
  },
  {
   "cell_type": "code",
   "execution_count": 280,
   "metadata": {
    "collapsed": true
   },
   "outputs": [],
   "source": [
    "cobain.index = ['Polynomial','RBF','Laplace']"
   ]
  },
  {
   "cell_type": "code",
   "execution_count": 281,
   "metadata": {
    "collapsed": false
   },
   "outputs": [
    {
     "data": {
      "text/html": [
       "<div>\n",
       "<table border=\"1\" class=\"dataframe\">\n",
       "  <thead>\n",
       "    <tr style=\"text-align: right;\">\n",
       "      <th></th>\n",
       "      <th>RMSE total</th>\n",
       "      <th>RMSE formation Energy</th>\n",
       "      <th>RMSE bandgap</th>\n",
       "    </tr>\n",
       "  </thead>\n",
       "  <tbody>\n",
       "    <tr>\n",
       "      <th>Polynomial</th>\n",
       "      <td>0.102439</td>\n",
       "      <td>0.034006</td>\n",
       "      <td>0.096630</td>\n",
       "    </tr>\n",
       "    <tr>\n",
       "      <th>RBF</th>\n",
       "      <td>0.101817</td>\n",
       "      <td>0.035011</td>\n",
       "      <td>0.095609</td>\n",
       "    </tr>\n",
       "    <tr>\n",
       "      <th>Laplace</th>\n",
       "      <td>0.094068</td>\n",
       "      <td>0.032453</td>\n",
       "      <td>0.088293</td>\n",
       "    </tr>\n",
       "  </tbody>\n",
       "</table>\n",
       "</div>"
      ],
      "text/plain": [
       "            RMSE total  RMSE formation Energy  RMSE bandgap\n",
       "Polynomial    0.102439               0.034006      0.096630\n",
       "RBF           0.101817               0.035011      0.095609\n",
       "Laplace       0.094068               0.032453      0.088293"
      ]
     },
     "execution_count": 281,
     "metadata": {},
     "output_type": "execute_result"
    }
   ],
   "source": [
    "cobain"
   ]
  },
  {
   "cell_type": "code",
   "execution_count": 282,
   "metadata": {
    "collapsed": false,
    "scrolled": true
   },
   "outputs": [
    {
     "name": "stdout",
     "output_type": "stream",
     "text": [
      "poly\n",
      "rbf\n",
      "lap\n"
     ]
    },
    {
     "data": {
      "text/html": [
       "<div>\n",
       "<table border=\"1\" class=\"dataframe\">\n",
       "  <thead>\n",
       "    <tr style=\"text-align: right;\">\n",
       "      <th></th>\n",
       "      <th>RMSE total</th>\n",
       "      <th>RMSE formation Energy</th>\n",
       "      <th>RMSE bandgap</th>\n",
       "    </tr>\n",
       "  </thead>\n",
       "  <tbody>\n",
       "    <tr>\n",
       "      <th>Polynomial</th>\n",
       "      <td>0.102439</td>\n",
       "      <td>0.034006</td>\n",
       "      <td>0.096630</td>\n",
       "    </tr>\n",
       "    <tr>\n",
       "      <th>RBF</th>\n",
       "      <td>0.101817</td>\n",
       "      <td>0.035011</td>\n",
       "      <td>0.095609</td>\n",
       "    </tr>\n",
       "    <tr>\n",
       "      <th>Laplace</th>\n",
       "      <td>0.094068</td>\n",
       "      <td>0.032453</td>\n",
       "      <td>0.088293</td>\n",
       "    </tr>\n",
       "  </tbody>\n",
       "</table>\n",
       "</div>"
      ],
      "text/plain": [
       "            RMSE total  RMSE formation Energy  RMSE bandgap\n",
       "Polynomial    0.102439               0.034006      0.096630\n",
       "RBF           0.101817               0.035011      0.095609\n",
       "Laplace       0.094068               0.032453      0.088293"
      ]
     },
     "execution_count": 282,
     "metadata": {},
     "output_type": "execute_result"
    }
   ],
   "source": [
    "print('poly')\n",
    "print('rbf')\n",
    "print('lap')\n",
    "compare_rmse"
   ]
  },
  {
   "cell_type": "code",
   "execution_count": 283,
   "metadata": {
    "collapsed": false
   },
   "outputs": [
    {
     "data": {
      "text/plain": [
       "spacegroup                    0\n",
       "number_of_total_atoms         0\n",
       "percent_atom_al               0\n",
       "percent_atom_ga               0\n",
       "percent_atom_in               0\n",
       "lattice_vector_1_ang          0\n",
       "lattice_vector_2_ang          0\n",
       "lattice_vector_3_ang          0\n",
       "lattice_angle_alpha_degree    0\n",
       "lattice_angle_beta_degree     0\n",
       "lattice_angle_gamma_degree    0\n",
       "dtype: int64"
      ]
     },
     "execution_count": 283,
     "metadata": {},
     "output_type": "execute_result"
    }
   ],
   "source": [
    "test.isnull().sum()"
   ]
  },
  {
   "cell_type": "code",
   "execution_count": 284,
   "metadata": {
    "collapsed": false
   },
   "outputs": [],
   "source": [
    "# preds1"
   ]
  },
  {
   "cell_type": "code",
   "execution_count": 285,
   "metadata": {
    "collapsed": false,
    "scrolled": true
   },
   "outputs": [],
   "source": [
    "X_test = df_norm[len(train):]\n",
    "# X_test = X_test.as_matrix()\n",
    "\n",
    "preds1 = clf7.predict(X_test)\n",
    "preds2 = clf8.predict(X_test)\n",
    "y_pred1 = np.expm1(preds1)\n",
    "y_pred2 = np.expm1(preds2)\n",
    "\n",
    "# preds1 = clf3.predict(x_valid)\n",
    "# preds2 = clf4.predict(x_valid)\n",
    "\n",
    "# y_pred1 = np.exp(preds1)-1\n",
    "# y_pred2 = np.exp(preds2)-1\n",
    "\n",
    "\n",
    "krr = pd.DataFrame()\n",
    "krr['id'] = test_df['id']\n",
    "krr['formation_energy_ev_natom'] = y_pred1\n",
    "krr['bandgap_energy_ev'] = y_pred2\n",
    "krr.to_csv(\"krr_sub.csv\", index=False)"
   ]
  },
  {
   "cell_type": "code",
   "execution_count": 286,
   "metadata": {
    "collapsed": false
   },
   "outputs": [
    {
     "data": {
      "text/html": [
       "<div>\n",
       "<table border=\"1\" class=\"dataframe\">\n",
       "  <thead>\n",
       "    <tr style=\"text-align: right;\">\n",
       "      <th></th>\n",
       "      <th>id</th>\n",
       "      <th>formation_energy_ev_natom</th>\n",
       "      <th>bandgap_energy_ev</th>\n",
       "    </tr>\n",
       "  </thead>\n",
       "  <tbody>\n",
       "    <tr>\n",
       "      <th>0</th>\n",
       "      <td>1</td>\n",
       "      <td>0.197683</td>\n",
       "      <td>1.582386</td>\n",
       "    </tr>\n",
       "    <tr>\n",
       "      <th>1</th>\n",
       "      <td>2</td>\n",
       "      <td>0.063720</td>\n",
       "      <td>3.873777</td>\n",
       "    </tr>\n",
       "    <tr>\n",
       "      <th>2</th>\n",
       "      <td>3</td>\n",
       "      <td>0.153768</td>\n",
       "      <td>3.430592</td>\n",
       "    </tr>\n",
       "    <tr>\n",
       "      <th>3</th>\n",
       "      <td>4</td>\n",
       "      <td>0.026269</td>\n",
       "      <td>2.989648</td>\n",
       "    </tr>\n",
       "    <tr>\n",
       "      <th>4</th>\n",
       "      <td>5</td>\n",
       "      <td>0.131918</td>\n",
       "      <td>1.571093</td>\n",
       "    </tr>\n",
       "  </tbody>\n",
       "</table>\n",
       "</div>"
      ],
      "text/plain": [
       "   id  formation_energy_ev_natom  bandgap_energy_ev\n",
       "0   1                   0.197683           1.582386\n",
       "1   2                   0.063720           3.873777\n",
       "2   3                   0.153768           3.430592\n",
       "3   4                   0.026269           2.989648\n",
       "4   5                   0.131918           1.571093"
      ]
     },
     "execution_count": 286,
     "metadata": {},
     "output_type": "execute_result"
    }
   ],
   "source": [
    "krr.head()#.sort_values(by='formation_energy_ev_natom',ascending=True).head()"
   ]
  },
  {
   "cell_type": "code",
   "execution_count": 287,
   "metadata": {
    "collapsed": false
   },
   "outputs": [],
   "source": [
    "# krr.sort_values(by='formation_energy_ev_natom',ascending=True)"
   ]
  },
  {
   "cell_type": "code",
   "execution_count": 288,
   "metadata": {
    "collapsed": false
   },
   "outputs": [],
   "source": [
    "# np.log1p(0.0).values()"
   ]
  },
  {
   "cell_type": "code",
   "execution_count": 289,
   "metadata": {
    "collapsed": false
   },
   "outputs": [],
   "source": [
    "coba = pd.DataFrame({'value1':y_train_values1,'value2':y_train_values2}).sort_values(by='value1')#.head()"
   ]
  },
  {
   "cell_type": "code",
   "execution_count": 290,
   "metadata": {
    "collapsed": false
   },
   "outputs": [
    {
     "data": {
      "text/html": [
       "<div>\n",
       "<table border=\"1\" class=\"dataframe\">\n",
       "  <thead>\n",
       "    <tr style=\"text-align: right;\">\n",
       "      <th></th>\n",
       "      <th>value1</th>\n",
       "      <th>value2</th>\n",
       "    </tr>\n",
       "  </thead>\n",
       "  <tbody>\n",
       "    <tr>\n",
       "      <th>98</th>\n",
       "      <td>0.000000</td>\n",
       "      <td>1.097245</td>\n",
       "    </tr>\n",
       "    <tr>\n",
       "      <th>2272</th>\n",
       "      <td>0.000000</td>\n",
       "      <td>0.650553</td>\n",
       "    </tr>\n",
       "    <tr>\n",
       "      <th>1945</th>\n",
       "      <td>0.000700</td>\n",
       "      <td>0.850407</td>\n",
       "    </tr>\n",
       "    <tr>\n",
       "      <th>1198</th>\n",
       "      <td>0.001000</td>\n",
       "      <td>1.138602</td>\n",
       "    </tr>\n",
       "    <tr>\n",
       "      <th>1236</th>\n",
       "      <td>0.001399</td>\n",
       "      <td>1.188636</td>\n",
       "    </tr>\n",
       "  </tbody>\n",
       "</table>\n",
       "</div>"
      ],
      "text/plain": [
       "        value1    value2\n",
       "98    0.000000  1.097245\n",
       "2272  0.000000  0.650553\n",
       "1945  0.000700  0.850407\n",
       "1198  0.001000  1.138602\n",
       "1236  0.001399  1.188636"
      ]
     },
     "execution_count": 290,
     "metadata": {},
     "output_type": "execute_result"
    }
   ],
   "source": [
    "coba.head()"
   ]
  },
  {
   "cell_type": "code",
   "execution_count": 291,
   "metadata": {
    "collapsed": false
   },
   "outputs": [
    {
     "data": {
      "text/plain": [
       "(2280, 2)"
      ]
     },
     "execution_count": 291,
     "metadata": {},
     "output_type": "execute_result"
    }
   ],
   "source": [
    "coba.shape"
   ]
  },
  {
   "cell_type": "code",
   "execution_count": 292,
   "metadata": {
    "collapsed": false
   },
   "outputs": [
    {
     "data": {
      "text/plain": [
       "(0.65055278292752472, 1.0972446872608046)"
      ]
     },
     "execution_count": 292,
     "metadata": {},
     "output_type": "execute_result"
    }
   ],
   "source": [
    "np.log1p(0.9166),np.log1p(1.9959)"
   ]
  },
  {
   "cell_type": "code",
   "execution_count": 293,
   "metadata": {
    "collapsed": false
   },
   "outputs": [
    {
     "data": {
      "text/html": [
       "<div>\n",
       "<table border=\"1\" class=\"dataframe\">\n",
       "  <thead>\n",
       "    <tr style=\"text-align: right;\">\n",
       "      <th></th>\n",
       "      <th>id</th>\n",
       "      <th>spacegroup</th>\n",
       "      <th>number_of_total_atoms</th>\n",
       "      <th>percent_atom_al</th>\n",
       "      <th>percent_atom_ga</th>\n",
       "      <th>percent_atom_in</th>\n",
       "      <th>lattice_vector_1_ang</th>\n",
       "      <th>lattice_vector_2_ang</th>\n",
       "      <th>lattice_vector_3_ang</th>\n",
       "      <th>lattice_angle_alpha_degree</th>\n",
       "      <th>lattice_angle_beta_degree</th>\n",
       "      <th>lattice_angle_gamma_degree</th>\n",
       "      <th>formation_energy_ev_natom</th>\n",
       "      <th>bandgap_energy_ev</th>\n",
       "    </tr>\n",
       "  </thead>\n",
       "  <tbody>\n",
       "    <tr>\n",
       "      <th>96</th>\n",
       "      <td>97</td>\n",
       "      <td>206</td>\n",
       "      <td>80.0</td>\n",
       "      <td>0.000</td>\n",
       "      <td>0.0000</td>\n",
       "      <td>1.0000</td>\n",
       "      <td>10.2904</td>\n",
       "      <td>10.2903</td>\n",
       "      <td>10.2907</td>\n",
       "      <td>90.0004</td>\n",
       "      <td>90.0004</td>\n",
       "      <td>89.9994</td>\n",
       "      <td>0.0000</td>\n",
       "      <td>0.9166</td>\n",
       "    </tr>\n",
       "    <tr>\n",
       "      <th>1943</th>\n",
       "      <td>1944</td>\n",
       "      <td>12</td>\n",
       "      <td>20.0</td>\n",
       "      <td>0.000</td>\n",
       "      <td>1.0000</td>\n",
       "      <td>0.0000</td>\n",
       "      <td>12.4608</td>\n",
       "      <td>3.0845</td>\n",
       "      <td>5.8773</td>\n",
       "      <td>90.0001</td>\n",
       "      <td>103.6591</td>\n",
       "      <td>90.0001</td>\n",
       "      <td>0.0000</td>\n",
       "      <td>1.9959</td>\n",
       "    </tr>\n",
       "    <tr>\n",
       "      <th>1647</th>\n",
       "      <td>1648</td>\n",
       "      <td>12</td>\n",
       "      <td>80.0</td>\n",
       "      <td>0.000</td>\n",
       "      <td>0.5625</td>\n",
       "      <td>0.4375</td>\n",
       "      <td>24.8062</td>\n",
       "      <td>6.4139</td>\n",
       "      <td>6.3254</td>\n",
       "      <td>90.0002</td>\n",
       "      <td>104.8531</td>\n",
       "      <td>90.0001</td>\n",
       "      <td>0.0007</td>\n",
       "      <td>1.3406</td>\n",
       "    </tr>\n",
       "    <tr>\n",
       "      <th>1967</th>\n",
       "      <td>1968</td>\n",
       "      <td>12</td>\n",
       "      <td>80.0</td>\n",
       "      <td>0.125</td>\n",
       "      <td>0.8750</td>\n",
       "      <td>0.0000</td>\n",
       "      <td>24.7917</td>\n",
       "      <td>6.1335</td>\n",
       "      <td>5.8516</td>\n",
       "      <td>90.0000</td>\n",
       "      <td>103.7028</td>\n",
       "      <td>90.0001</td>\n",
       "      <td>0.0010</td>\n",
       "      <td>2.1224</td>\n",
       "    </tr>\n",
       "    <tr>\n",
       "      <th>741</th>\n",
       "      <td>742</td>\n",
       "      <td>12</td>\n",
       "      <td>80.0</td>\n",
       "      <td>0.250</td>\n",
       "      <td>0.7500</td>\n",
       "      <td>0.0000</td>\n",
       "      <td>24.6618</td>\n",
       "      <td>6.0980</td>\n",
       "      <td>5.8260</td>\n",
       "      <td>89.9998</td>\n",
       "      <td>103.7468</td>\n",
       "      <td>90.0001</td>\n",
       "      <td>0.0014</td>\n",
       "      <td>2.2826</td>\n",
       "    </tr>\n",
       "  </tbody>\n",
       "</table>\n",
       "</div>"
      ],
      "text/plain": [
       "        id  spacegroup  number_of_total_atoms  percent_atom_al  \\\n",
       "96      97         206                   80.0            0.000   \n",
       "1943  1944          12                   20.0            0.000   \n",
       "1647  1648          12                   80.0            0.000   \n",
       "1967  1968          12                   80.0            0.125   \n",
       "741    742          12                   80.0            0.250   \n",
       "\n",
       "      percent_atom_ga  percent_atom_in  lattice_vector_1_ang  \\\n",
       "96             0.0000           1.0000               10.2904   \n",
       "1943           1.0000           0.0000               12.4608   \n",
       "1647           0.5625           0.4375               24.8062   \n",
       "1967           0.8750           0.0000               24.7917   \n",
       "741            0.7500           0.0000               24.6618   \n",
       "\n",
       "      lattice_vector_2_ang  lattice_vector_3_ang  lattice_angle_alpha_degree  \\\n",
       "96                 10.2903               10.2907                     90.0004   \n",
       "1943                3.0845                5.8773                     90.0001   \n",
       "1647                6.4139                6.3254                     90.0002   \n",
       "1967                6.1335                5.8516                     90.0000   \n",
       "741                 6.0980                5.8260                     89.9998   \n",
       "\n",
       "      lattice_angle_beta_degree  lattice_angle_gamma_degree  \\\n",
       "96                      90.0004                     89.9994   \n",
       "1943                   103.6591                     90.0001   \n",
       "1647                   104.8531                     90.0001   \n",
       "1967                   103.7028                     90.0001   \n",
       "741                    103.7468                     90.0001   \n",
       "\n",
       "      formation_energy_ev_natom  bandgap_energy_ev  \n",
       "96                       0.0000             0.9166  \n",
       "1943                     0.0000             1.9959  \n",
       "1647                     0.0007             1.3406  \n",
       "1967                     0.0010             2.1224  \n",
       "741                      0.0014             2.2826  "
      ]
     },
     "execution_count": 293,
     "metadata": {},
     "output_type": "execute_result"
    }
   ],
   "source": [
    "train_df.sort_values(by='formation_energy_ev_natom').head()"
   ]
  },
  {
   "cell_type": "code",
   "execution_count": null,
   "metadata": {
    "collapsed": true
   },
   "outputs": [],
   "source": []
  },
  {
   "cell_type": "markdown",
   "metadata": {},
   "source": [
    "## Another Model"
   ]
  },
  {
   "cell_type": "code",
   "execution_count": 294,
   "metadata": {
    "collapsed": true
   },
   "outputs": [],
   "source": [
    "from sklearn.tree import DecisionTreeRegressor\n",
    "from sklearn.ensemble import RandomForestRegressor"
   ]
  },
  {
   "cell_type": "code",
   "execution_count": 295,
   "metadata": {
    "collapsed": true
   },
   "outputs": [],
   "source": [
    "from sklearn.model_selection import RandomizedSearchCV"
   ]
  },
  {
   "cell_type": "code",
   "execution_count": 296,
   "metadata": {
    "collapsed": true
   },
   "outputs": [],
   "source": [
    "decTree_param1 = {'max_depth':np.arange(2,9,1)}\n",
    "\n",
    "randomdecTree1 = RandomizedSearchCV(DecisionTreeRegressor(random_state=123),param_distributions=decTree_param1,\n",
    "                                  n_iter=5,cv=5)\n",
    "\n",
    "decTree_param2 = {'max_depth':np.arange(2,9,1)}\n",
    "\n",
    "randomdecTree2 = RandomizedSearchCV(DecisionTreeRegressor(random_state=123),\n",
    "                                   param_distributions=decTree_param2,\n",
    "                                   n_iter=5,cv=5)"
   ]
  },
  {
   "cell_type": "code",
   "execution_count": 297,
   "metadata": {
    "collapsed": false
   },
   "outputs": [
    {
     "data": {
      "text/plain": [
       "RandomizedSearchCV(cv=5, error_score='raise',\n",
       "          estimator=DecisionTreeRegressor(criterion='mse', max_depth=None, max_features=None,\n",
       "           max_leaf_nodes=None, min_impurity_split=1e-07,\n",
       "           min_samples_leaf=1, min_samples_split=2,\n",
       "           min_weight_fraction_leaf=0.0, presort=False, random_state=123,\n",
       "           splitter='best'),\n",
       "          fit_params={}, iid=True, n_iter=5, n_jobs=1,\n",
       "          param_distributions={'max_depth': array([2, 3, 4, 5, 6, 7, 8])},\n",
       "          pre_dispatch='2*n_jobs', random_state=None, refit=True,\n",
       "          return_train_score=True, scoring=None, verbose=0)"
      ]
     },
     "execution_count": 297,
     "metadata": {},
     "output_type": "execute_result"
    }
   ],
   "source": [
    "randomdecTree1.fit(x_train,y_train_values1)\n",
    "randomdecTree2.fit(x_train,y_train_values2)"
   ]
  },
  {
   "cell_type": "code",
   "execution_count": 298,
   "metadata": {
    "collapsed": true
   },
   "outputs": [],
   "source": [
    "pred_dectree1 = randomdecTree1.predict(x_valid)\n",
    "pred_dectree2 = randomdecTree2.predict(x_valid)"
   ]
  },
  {
   "cell_type": "code",
   "execution_count": 299,
   "metadata": {
    "collapsed": false
   },
   "outputs": [],
   "source": [
    "y_valid_dectree1 = np.expm1(pred_dectree1)\n",
    "y_valid_dectree2 = np.expm1(pred_dectree2)"
   ]
  },
  {
   "cell_type": "code",
   "execution_count": 300,
   "metadata": {
    "collapsed": true
   },
   "outputs": [],
   "source": [
    "rmse_dectree1 = np.sqrt(mean_squared_error(y_valid_values1,pred_dectree1))\n",
    "rmse_dectree2 = np.sqrt(mean_squared_error(y_valid_values2,pred_dectree2))"
   ]
  },
  {
   "cell_type": "code",
   "execution_count": 301,
   "metadata": {
    "collapsed": true
   },
   "outputs": [],
   "source": [
    "rmse_dectree_total = np.sqrt(rmse_dectree1**2+rmse_dectree2**2)"
   ]
  },
  {
   "cell_type": "code",
   "execution_count": 302,
   "metadata": {
    "collapsed": false
   },
   "outputs": [
    {
     "name": "stdout",
     "output_type": "stream",
     "text": [
      "('RMSE formation', 0.033941420052817278)\n",
      "('RMSE bandgap', 0.11547291104710003)\n",
      "('RMSE total dectree', 0.1203578546705335)\n"
     ]
    }
   ],
   "source": [
    "print('RMSE formation',rmse_dectree1)\n",
    "print('RMSE bandgap',rmse_dectree2)\n",
    "print('RMSE total dectree',rmse_dectree_total)"
   ]
  },
  {
   "cell_type": "code",
   "execution_count": 303,
   "metadata": {
    "collapsed": true
   },
   "outputs": [],
   "source": [
    "new = [rmse_dectree1,rmse_dectree2,rmse_dectree_total]"
   ]
  },
  {
   "cell_type": "code",
   "execution_count": 304,
   "metadata": {
    "collapsed": false
   },
   "outputs": [],
   "source": [
    "compare_rmse = pd.DataFrame()\n",
    "compare_rmse['RMSE total'] = [rmse_total_poly,rmse_total_rbf,rmse_total_lap,rmse_dectree_total]\n",
    "compare_rmse['RMSE formation Energy'] = [rmse_valid1,rmse_valid5,rmse_valid7,rmse_dectree1]\n",
    "compare_rmse['RMSE bandgap'] = [rmse_valid2,rmse_valid6,rmse_valid8,rmse_dectree2]"
   ]
  },
  {
   "cell_type": "code",
   "execution_count": 305,
   "metadata": {
    "collapsed": false
   },
   "outputs": [
    {
     "data": {
      "text/html": [
       "<div>\n",
       "<table border=\"1\" class=\"dataframe\">\n",
       "  <thead>\n",
       "    <tr style=\"text-align: right;\">\n",
       "      <th></th>\n",
       "      <th>RMSE total</th>\n",
       "      <th>RMSE formation Energy</th>\n",
       "      <th>RMSE bandgap</th>\n",
       "    </tr>\n",
       "  </thead>\n",
       "  <tbody>\n",
       "    <tr>\n",
       "      <th>0</th>\n",
       "      <td>0.102439</td>\n",
       "      <td>0.034006</td>\n",
       "      <td>0.096630</td>\n",
       "    </tr>\n",
       "    <tr>\n",
       "      <th>1</th>\n",
       "      <td>0.101817</td>\n",
       "      <td>0.035011</td>\n",
       "      <td>0.095609</td>\n",
       "    </tr>\n",
       "    <tr>\n",
       "      <th>2</th>\n",
       "      <td>0.094068</td>\n",
       "      <td>0.032453</td>\n",
       "      <td>0.088293</td>\n",
       "    </tr>\n",
       "    <tr>\n",
       "      <th>3</th>\n",
       "      <td>0.120358</td>\n",
       "      <td>0.033941</td>\n",
       "      <td>0.115473</td>\n",
       "    </tr>\n",
       "  </tbody>\n",
       "</table>\n",
       "</div>"
      ],
      "text/plain": [
       "   RMSE total  RMSE formation Energy  RMSE bandgap\n",
       "0    0.102439               0.034006      0.096630\n",
       "1    0.101817               0.035011      0.095609\n",
       "2    0.094068               0.032453      0.088293\n",
       "3    0.120358               0.033941      0.115473"
      ]
     },
     "execution_count": 305,
     "metadata": {},
     "output_type": "execute_result"
    }
   ],
   "source": [
    "compare_rmse"
   ]
  },
  {
   "cell_type": "code",
   "execution_count": 306,
   "metadata": {
    "collapsed": true
   },
   "outputs": [],
   "source": [
    "from sklearn.ensemble import RandomForestRegressor"
   ]
  },
  {
   "cell_type": "code",
   "execution_count": 307,
   "metadata": {
    "collapsed": true
   },
   "outputs": [],
   "source": [
    "randomfor1 = RandomForestRegressor(random_state=123)\n",
    "randomfor2 = RandomForestRegressor(random_state=123)"
   ]
  },
  {
   "cell_type": "code",
   "execution_count": 308,
   "metadata": {
    "collapsed": false
   },
   "outputs": [],
   "source": [
    "hyperparam = {'n_estimators':[100,300,500,1000],\n",
    "             'min_samples_leaf':[2,5,8],\n",
    "             'min_samples_split':[2,5,8,10]}\n",
    "\n",
    "grid_randFor1 = RandomizedSearchCV(randomfor1,\n",
    "                                  param_distributions=hyperparam,\n",
    "                                  cv=5,\n",
    "                                  scoring='neg_mean_squared_error')\n",
    "\n",
    "grid_randFor2 = RandomizedSearchCV(randomfor2,\n",
    "                                  param_distributions=hyperparam,\n",
    "                                  cv=5,\n",
    "                                  scoring='neg_mean_squared_error')"
   ]
  },
  {
   "cell_type": "code",
   "execution_count": 309,
   "metadata": {
    "collapsed": false
   },
   "outputs": [
    {
     "data": {
      "text/plain": [
       "RandomizedSearchCV(cv=5, error_score='raise',\n",
       "          estimator=RandomForestRegressor(bootstrap=True, criterion='mse', max_depth=None,\n",
       "           max_features='auto', max_leaf_nodes=None,\n",
       "           min_impurity_split=1e-07, min_samples_leaf=1,\n",
       "           min_samples_split=2, min_weight_fraction_leaf=0.0,\n",
       "           n_estimators=10, n_jobs=1, oob_score=False, random_state=123,\n",
       "           verbose=0, warm_start=False),\n",
       "          fit_params={}, iid=True, n_iter=10, n_jobs=1,\n",
       "          param_distributions={'n_estimators': [100, 300, 500, 1000], 'min_samples_split': [2, 5, 8, 10], 'min_samples_leaf': [2, 5, 8]},\n",
       "          pre_dispatch='2*n_jobs', random_state=None, refit=True,\n",
       "          return_train_score=True, scoring='neg_mean_squared_error',\n",
       "          verbose=0)"
      ]
     },
     "execution_count": 309,
     "metadata": {},
     "output_type": "execute_result"
    }
   ],
   "source": [
    "grid_randFor1.fit(x_train,y_train_values1)\n",
    "grid_randFor2.fit(x_train,y_train_values2)"
   ]
  },
  {
   "cell_type": "code",
   "execution_count": 310,
   "metadata": {
    "collapsed": false
   },
   "outputs": [],
   "source": [
    "pred_randFor1 = grid_randFor1.predict(x_valid)\n",
    "pred_randFor2 = grid_randFor2.predict(x_valid)"
   ]
  },
  {
   "cell_type": "code",
   "execution_count": 311,
   "metadata": {
    "collapsed": false
   },
   "outputs": [],
   "source": [
    "y_valid_randfor1 = np.expm1(pred_randFor1)\n",
    "y_valid_randfor2 = np.expm1(pred_randFor2)"
   ]
  },
  {
   "cell_type": "code",
   "execution_count": 312,
   "metadata": {
    "collapsed": false
   },
   "outputs": [],
   "source": [
    "rmse_randfor1 = np.sqrt(mean_squared_error(y_valid_values1, pred_randFor1))\n",
    "rmse_randfor2 = np.sqrt(mean_squared_error(y_valid_values2, pred_randFor2))"
   ]
  },
  {
   "cell_type": "code",
   "execution_count": 313,
   "metadata": {
    "collapsed": true
   },
   "outputs": [],
   "source": [
    "rmse_randfor_total = np.sqrt(rmse_randfor1**2+rmse_randfor2**2)"
   ]
  },
  {
   "cell_type": "code",
   "execution_count": 314,
   "metadata": {
    "collapsed": false
   },
   "outputs": [
    {
     "name": "stdout",
     "output_type": "stream",
     "text": [
      "('rmse formation', 0.030635050483252359)\n",
      "('rmse bandgap', 0.098857526104662322)\n",
      "('rmse total randfor', 0.10349549161990301)\n"
     ]
    }
   ],
   "source": [
    "print('rmse formation',rmse_randfor1)\n",
    "print('rmse bandgap',rmse_randfor2)\n",
    "print('rmse total randfor',rmse_randfor_total)"
   ]
  },
  {
   "cell_type": "code",
   "execution_count": 315,
   "metadata": {
    "collapsed": true
   },
   "outputs": [],
   "source": [
    "compare_rmse = pd.DataFrame()\n",
    "compare_rmse['RMSE total'] = [rmse_total_poly,rmse_total_rbf,rmse_total_lap,rmse_dectree_total,rmse_randfor_total]\n",
    "compare_rmse['RMSE formation Energy'] = [rmse_valid1,rmse_valid5,rmse_valid7,rmse_dectree1,rmse_randfor1]\n",
    "compare_rmse['RMSE bandgap'] = [rmse_valid2,rmse_valid6,rmse_valid8,rmse_dectree2,rmse_randfor2]"
   ]
  },
  {
   "cell_type": "code",
   "execution_count": 316,
   "metadata": {
    "collapsed": false
   },
   "outputs": [
    {
     "data": {
      "text/html": [
       "<div>\n",
       "<table border=\"1\" class=\"dataframe\">\n",
       "  <thead>\n",
       "    <tr style=\"text-align: right;\">\n",
       "      <th></th>\n",
       "      <th>RMSE total</th>\n",
       "      <th>RMSE formation Energy</th>\n",
       "      <th>RMSE bandgap</th>\n",
       "    </tr>\n",
       "  </thead>\n",
       "  <tbody>\n",
       "    <tr>\n",
       "      <th>0</th>\n",
       "      <td>0.102439</td>\n",
       "      <td>0.034006</td>\n",
       "      <td>0.096630</td>\n",
       "    </tr>\n",
       "    <tr>\n",
       "      <th>1</th>\n",
       "      <td>0.101817</td>\n",
       "      <td>0.035011</td>\n",
       "      <td>0.095609</td>\n",
       "    </tr>\n",
       "    <tr>\n",
       "      <th>2</th>\n",
       "      <td>0.094068</td>\n",
       "      <td>0.032453</td>\n",
       "      <td>0.088293</td>\n",
       "    </tr>\n",
       "    <tr>\n",
       "      <th>3</th>\n",
       "      <td>0.120358</td>\n",
       "      <td>0.033941</td>\n",
       "      <td>0.115473</td>\n",
       "    </tr>\n",
       "    <tr>\n",
       "      <th>4</th>\n",
       "      <td>0.103495</td>\n",
       "      <td>0.030635</td>\n",
       "      <td>0.098858</td>\n",
       "    </tr>\n",
       "  </tbody>\n",
       "</table>\n",
       "</div>"
      ],
      "text/plain": [
       "   RMSE total  RMSE formation Energy  RMSE bandgap\n",
       "0    0.102439               0.034006      0.096630\n",
       "1    0.101817               0.035011      0.095609\n",
       "2    0.094068               0.032453      0.088293\n",
       "3    0.120358               0.033941      0.115473\n",
       "4    0.103495               0.030635      0.098858"
      ]
     },
     "execution_count": 316,
     "metadata": {},
     "output_type": "execute_result"
    }
   ],
   "source": [
    "compare_rmse"
   ]
  },
  {
   "cell_type": "code",
   "execution_count": 317,
   "metadata": {
    "collapsed": true
   },
   "outputs": [],
   "source": [
    "compare_rmse.index = ['Ridge Polynomial','Ridge rbf','Ridge Laplace','Decision Tree','Random Forest']"
   ]
  },
  {
   "cell_type": "code",
   "execution_count": 318,
   "metadata": {
    "collapsed": false
   },
   "outputs": [
    {
     "data": {
      "text/html": [
       "<div>\n",
       "<table border=\"1\" class=\"dataframe\">\n",
       "  <thead>\n",
       "    <tr style=\"text-align: right;\">\n",
       "      <th></th>\n",
       "      <th>RMSE total</th>\n",
       "      <th>RMSE formation Energy</th>\n",
       "      <th>RMSE bandgap</th>\n",
       "    </tr>\n",
       "  </thead>\n",
       "  <tbody>\n",
       "    <tr>\n",
       "      <th>Ridge Polynomial</th>\n",
       "      <td>0.102439</td>\n",
       "      <td>0.034006</td>\n",
       "      <td>0.096630</td>\n",
       "    </tr>\n",
       "    <tr>\n",
       "      <th>Ridge rbf</th>\n",
       "      <td>0.101817</td>\n",
       "      <td>0.035011</td>\n",
       "      <td>0.095609</td>\n",
       "    </tr>\n",
       "    <tr>\n",
       "      <th>Ridge Laplace</th>\n",
       "      <td>0.094068</td>\n",
       "      <td>0.032453</td>\n",
       "      <td>0.088293</td>\n",
       "    </tr>\n",
       "    <tr>\n",
       "      <th>Decision Tree</th>\n",
       "      <td>0.120358</td>\n",
       "      <td>0.033941</td>\n",
       "      <td>0.115473</td>\n",
       "    </tr>\n",
       "    <tr>\n",
       "      <th>Random Forest</th>\n",
       "      <td>0.103495</td>\n",
       "      <td>0.030635</td>\n",
       "      <td>0.098858</td>\n",
       "    </tr>\n",
       "  </tbody>\n",
       "</table>\n",
       "</div>"
      ],
      "text/plain": [
       "                  RMSE total  RMSE formation Energy  RMSE bandgap\n",
       "Ridge Polynomial    0.102439               0.034006      0.096630\n",
       "Ridge rbf           0.101817               0.035011      0.095609\n",
       "Ridge Laplace       0.094068               0.032453      0.088293\n",
       "Decision Tree       0.120358               0.033941      0.115473\n",
       "Random Forest       0.103495               0.030635      0.098858"
      ]
     },
     "execution_count": 318,
     "metadata": {},
     "output_type": "execute_result"
    }
   ],
   "source": [
    "compare_rmse"
   ]
  },
  {
   "cell_type": "code",
   "execution_count": 319,
   "metadata": {
    "collapsed": false
   },
   "outputs": [],
   "source": [
    "X_test = df_norm[len(train):]\n",
    "X_test = X_test.as_matrix()\n",
    "\n",
    "preds1 = grid_randFor1.predict(X_test)\n",
    "preds2 = grid_randFor2.predict(X_test)\n",
    "y_pred1 = np.expm1(preds1)\n",
    "y_pred2 = np.expm1(preds2)\n",
    "\n",
    "krr = pd.DataFrame()\n",
    "krr['id'] = test_df['id']\n",
    "krr['formation_energy_ev_natom'] = y_pred1\n",
    "krr['bandgap_energy_ev'] = y_pred2\n",
    "krr.to_csv(\"Random Forest Normalize.csv\", index=False)"
   ]
  },
  {
   "cell_type": "code",
   "execution_count": 320,
   "metadata": {
    "collapsed": false
   },
   "outputs": [],
   "source": [
    "# 34 poly\n",
    "# 56 rbf\n",
    "# 78 laplace\n",
    "## 0.0608\n",
    "X_test = df_norm[len(train):]\n",
    "X_test = X_test.as_matrix()\n",
    "\n",
    "preds1 = grid_randFor1.predict(X_test) # random forest\n",
    "preds2 = clf8.predict(X_test) # laplae\n",
    "y_pred1 = np.expm1(preds1)\n",
    "y_pred2 = np.expm1(preds2)\n",
    "\n",
    "krr = pd.DataFrame()\n",
    "krr['id'] = test_df['id']\n",
    "krr['formation_energy_ev_natom'] = y_pred1\n",
    "krr['bandgap_energy_ev'] = y_pred2\n",
    "krr.to_csv(\"Random and Laplace 5.csv\", index=False)"
   ]
  },
  {
   "cell_type": "code",
   "execution_count": 213,
   "metadata": {
    "collapsed": true
   },
   "outputs": [],
   "source": [
    "# 34 poly\n",
    "# 56 rbf\n",
    "# 78 laplace\n",
    "## 0.0608\n",
    "X_test = test[x_columns]\n",
    "X_test = X_test.as_matrix()\n",
    "\n",
    "preds1 = clf3.predict(X_test) # random forest\n",
    "preds2 = randomdecTree2.predict(X_test) # laplae\n",
    "y_pred1 = np.expm1(preds1)\n",
    "y_pred2 = np.expm1(preds2)\n",
    "\n",
    "krr = pd.DataFrame()\n",
    "krr['id'] = test['id']\n",
    "krr['formation_energy_ev_natom'] = y_pred1\n",
    "krr['bandgap_energy_ev'] = y_pred2\n",
    "krr.to_csv(\"ploy dectree.csv\", index=False)"
   ]
  },
  {
   "cell_type": "code",
   "execution_count": null,
   "metadata": {
    "collapsed": true
   },
   "outputs": [],
   "source": []
  }
 ],
 "metadata": {
  "kernelspec": {
   "display_name": "Python 2",
   "language": "python",
   "name": "python2"
  },
  "language_info": {
   "codemirror_mode": {
    "name": "ipython",
    "version": 2
   },
   "file_extension": ".py",
   "mimetype": "text/x-python",
   "name": "python",
   "nbconvert_exporter": "python",
   "pygments_lexer": "ipython2",
   "version": "2.7.13"
  }
 },
 "nbformat": 4,
 "nbformat_minor": 2
}
